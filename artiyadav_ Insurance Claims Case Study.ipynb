{
 "cells": [
  {
   "cell_type": "markdown",
   "id": "3568a3cf",
   "metadata": {},
   "source": [
    "# INSURANCE CLAIMS DATA"
   ]
  },
  {
   "cell_type": "code",
   "execution_count": 1,
   "id": "e34b8145",
   "metadata": {},
   "outputs": [],
   "source": [
    "#import modules\n",
    "import pandas as pd\n",
    "import numpy as np\n",
    "import matplotlib.pyplot as plt\n",
    "import datetime as dte\n",
    "import seaborn as sns\n",
    "import re\n",
    "from scipy import stats as stats\n",
    "# set the graphs to show in the jupyter notebook\n",
    "%matplotlib inline\n",
    "# set seabor graphs to a better style\n",
    "sns.set(style=\"ticks\")"
   ]
  },
  {
   "cell_type": "markdown",
   "id": "8d9e983d",
   "metadata": {},
   "source": [
    "#### 1. Import claims_data.csv and cust_data.csv which is provided to you and combine the two datasets appropriately to create a 360-degree view of the data. Use the same for the subsequent questions."
   ]
  },
  {
   "cell_type": "code",
   "execution_count": 2,
   "id": "5feefa6e",
   "metadata": {},
   "outputs": [],
   "source": [
    "claims_data=pd.read_csv('C:/Users/DELL/Downloads/Basic Data Manipulation - Visualization Exercise/Case Study 3 - Insurance Claims Case Study/claims.csv')\n",
    "cust_demog=pd.read_csv('C:/Users/DELL/Downloads/Basic Data Manipulation - Visualization Exercise/Case Study 3 - Insurance Claims Case Study/cust_demographics.csv')\n"
   ]
  },
  {
   "cell_type": "code",
   "execution_count": 3,
   "id": "82942499",
   "metadata": {},
   "outputs": [
    {
     "data": {
      "text/html": [
       "<div>\n",
       "<style scoped>\n",
       "    .dataframe tbody tr th:only-of-type {\n",
       "        vertical-align: middle;\n",
       "    }\n",
       "\n",
       "    .dataframe tbody tr th {\n",
       "        vertical-align: top;\n",
       "    }\n",
       "\n",
       "    .dataframe thead th {\n",
       "        text-align: right;\n",
       "    }\n",
       "</style>\n",
       "<table border=\"1\" class=\"dataframe\">\n",
       "  <thead>\n",
       "    <tr style=\"text-align: right;\">\n",
       "      <th></th>\n",
       "      <th>claim_id</th>\n",
       "      <th>customer_id</th>\n",
       "      <th>incident_cause</th>\n",
       "      <th>claim_date</th>\n",
       "      <th>claim_area</th>\n",
       "      <th>police_report</th>\n",
       "      <th>claim_type</th>\n",
       "      <th>claim_amount</th>\n",
       "      <th>total_policy_claims</th>\n",
       "      <th>fraudulent</th>\n",
       "    </tr>\n",
       "  </thead>\n",
       "  <tbody>\n",
       "    <tr>\n",
       "      <th>620</th>\n",
       "      <td>78221963</td>\n",
       "      <td>84147585</td>\n",
       "      <td>Driver error</td>\n",
       "      <td>04/10/2018</td>\n",
       "      <td>Auto</td>\n",
       "      <td>Yes</td>\n",
       "      <td>Injury only</td>\n",
       "      <td>$14430</td>\n",
       "      <td>4.0</td>\n",
       "      <td>No</td>\n",
       "    </tr>\n",
       "    <tr>\n",
       "      <th>852</th>\n",
       "      <td>58366436</td>\n",
       "      <td>39405635</td>\n",
       "      <td>Other causes</td>\n",
       "      <td>05/09/2017</td>\n",
       "      <td>Auto</td>\n",
       "      <td>Unknown</td>\n",
       "      <td>Material and injury</td>\n",
       "      <td>$45540</td>\n",
       "      <td>1.0</td>\n",
       "      <td>Yes</td>\n",
       "    </tr>\n",
       "    <tr>\n",
       "      <th>555</th>\n",
       "      <td>31609133</td>\n",
       "      <td>25550440</td>\n",
       "      <td>Natural causes</td>\n",
       "      <td>03/08/2018</td>\n",
       "      <td>Auto</td>\n",
       "      <td>Unknown</td>\n",
       "      <td>Material and injury</td>\n",
       "      <td>$17721.5</td>\n",
       "      <td>1.0</td>\n",
       "      <td>Yes</td>\n",
       "    </tr>\n",
       "    <tr>\n",
       "      <th>184</th>\n",
       "      <td>69348631</td>\n",
       "      <td>154557</td>\n",
       "      <td>Driver error</td>\n",
       "      <td>04/10/2018</td>\n",
       "      <td>Auto</td>\n",
       "      <td>No</td>\n",
       "      <td>Injury only</td>\n",
       "      <td>NaN</td>\n",
       "      <td>1.0</td>\n",
       "      <td>Yes</td>\n",
       "    </tr>\n",
       "    <tr>\n",
       "      <th>369</th>\n",
       "      <td>3311108</td>\n",
       "      <td>49481916</td>\n",
       "      <td>Other causes</td>\n",
       "      <td>09/19/2018</td>\n",
       "      <td>Auto</td>\n",
       "      <td>No</td>\n",
       "      <td>Material only</td>\n",
       "      <td>NaN</td>\n",
       "      <td>2.0</td>\n",
       "      <td>Yes</td>\n",
       "    </tr>\n",
       "  </tbody>\n",
       "</table>\n",
       "</div>"
      ],
      "text/plain": [
       "     claim_id  customer_id  incident_cause  claim_date claim_area  \\\n",
       "620  78221963     84147585    Driver error  04/10/2018       Auto   \n",
       "852  58366436     39405635    Other causes  05/09/2017       Auto   \n",
       "555  31609133     25550440  Natural causes  03/08/2018       Auto   \n",
       "184  69348631       154557    Driver error  04/10/2018       Auto   \n",
       "369   3311108     49481916    Other causes  09/19/2018       Auto   \n",
       "\n",
       "    police_report           claim_type claim_amount  total_policy_claims  \\\n",
       "620           Yes          Injury only       $14430                  4.0   \n",
       "852       Unknown  Material and injury       $45540                  1.0   \n",
       "555       Unknown  Material and injury     $17721.5                  1.0   \n",
       "184            No          Injury only          NaN                  1.0   \n",
       "369            No        Material only          NaN                  2.0   \n",
       "\n",
       "    fraudulent  \n",
       "620         No  \n",
       "852        Yes  \n",
       "555        Yes  \n",
       "184        Yes  \n",
       "369        Yes  "
      ]
     },
     "execution_count": 3,
     "metadata": {},
     "output_type": "execute_result"
    }
   ],
   "source": [
    "claims_data.sample(5)"
   ]
  },
  {
   "cell_type": "code",
   "execution_count": 4,
   "id": "5d6499d1",
   "metadata": {},
   "outputs": [
    {
     "data": {
      "text/html": [
       "<div>\n",
       "<style scoped>\n",
       "    .dataframe tbody tr th:only-of-type {\n",
       "        vertical-align: middle;\n",
       "    }\n",
       "\n",
       "    .dataframe tbody tr th {\n",
       "        vertical-align: top;\n",
       "    }\n",
       "\n",
       "    .dataframe thead th {\n",
       "        text-align: right;\n",
       "    }\n",
       "</style>\n",
       "<table border=\"1\" class=\"dataframe\">\n",
       "  <thead>\n",
       "    <tr style=\"text-align: right;\">\n",
       "      <th></th>\n",
       "      <th>CUST_ID</th>\n",
       "      <th>gender</th>\n",
       "      <th>DateOfBirth</th>\n",
       "      <th>State</th>\n",
       "      <th>Contact</th>\n",
       "      <th>Segment</th>\n",
       "    </tr>\n",
       "  </thead>\n",
       "  <tbody>\n",
       "    <tr>\n",
       "      <th>109</th>\n",
       "      <td>94448966</td>\n",
       "      <td>Female</td>\n",
       "      <td>20-Jun-84</td>\n",
       "      <td>MD</td>\n",
       "      <td>845-768-2513</td>\n",
       "      <td>Gold</td>\n",
       "    </tr>\n",
       "    <tr>\n",
       "      <th>133</th>\n",
       "      <td>39943087</td>\n",
       "      <td>Female</td>\n",
       "      <td>11-Nov-88</td>\n",
       "      <td>NY</td>\n",
       "      <td>473-567-7234</td>\n",
       "      <td>Platinum</td>\n",
       "    </tr>\n",
       "    <tr>\n",
       "      <th>435</th>\n",
       "      <td>30154531</td>\n",
       "      <td>Male</td>\n",
       "      <td>16-Nov-74</td>\n",
       "      <td>MA</td>\n",
       "      <td>482-654-2465</td>\n",
       "      <td>Platinum</td>\n",
       "    </tr>\n",
       "    <tr>\n",
       "      <th>689</th>\n",
       "      <td>41106063</td>\n",
       "      <td>Male</td>\n",
       "      <td>26-Mar-88</td>\n",
       "      <td>FL</td>\n",
       "      <td>284-876-9462</td>\n",
       "      <td>Gold</td>\n",
       "    </tr>\n",
       "    <tr>\n",
       "      <th>295</th>\n",
       "      <td>53900680</td>\n",
       "      <td>Male</td>\n",
       "      <td>06-Mar-99</td>\n",
       "      <td>MA</td>\n",
       "      <td>591-168-3457</td>\n",
       "      <td>Silver</td>\n",
       "    </tr>\n",
       "  </tbody>\n",
       "</table>\n",
       "</div>"
      ],
      "text/plain": [
       "      CUST_ID  gender DateOfBirth State       Contact   Segment\n",
       "109  94448966  Female   20-Jun-84    MD  845-768-2513      Gold\n",
       "133  39943087  Female   11-Nov-88    NY  473-567-7234  Platinum\n",
       "435  30154531    Male   16-Nov-74    MA  482-654-2465  Platinum\n",
       "689  41106063    Male   26-Mar-88    FL  284-876-9462      Gold\n",
       "295  53900680    Male   06-Mar-99    MA  591-168-3457    Silver"
      ]
     },
     "execution_count": 4,
     "metadata": {},
     "output_type": "execute_result"
    }
   ],
   "source": [
    "cust_demog.sample(5)"
   ]
  },
  {
   "cell_type": "markdown",
   "id": "23f66357",
   "metadata": {},
   "source": [
    "#### 2. Perform a data audit for the datatypes and find out if there are anymismatch within the current datatypes of the columns and their business significance.\n"
   ]
  },
  {
   "cell_type": "code",
   "execution_count": 5,
   "id": "c795eebe",
   "metadata": {},
   "outputs": [
    {
     "name": "stdout",
     "output_type": "stream",
     "text": [
      "<class 'pandas.core.frame.DataFrame'>\n",
      "RangeIndex: 1100 entries, 0 to 1099\n",
      "Data columns (total 10 columns):\n",
      " #   Column               Non-Null Count  Dtype  \n",
      "---  ------               --------------  -----  \n",
      " 0   claim_id             1100 non-null   int64  \n",
      " 1   customer_id          1100 non-null   int64  \n",
      " 2   incident_cause       1100 non-null   object \n",
      " 3   claim_date           1100 non-null   object \n",
      " 4   claim_area           1100 non-null   object \n",
      " 5   police_report        1100 non-null   object \n",
      " 6   claim_type           1100 non-null   object \n",
      " 7   claim_amount         1035 non-null   object \n",
      " 8   total_policy_claims  1090 non-null   float64\n",
      " 9   fraudulent           1100 non-null   object \n",
      "dtypes: float64(1), int64(2), object(7)\n",
      "memory usage: 86.1+ KB\n"
     ]
    }
   ],
   "source": [
    "claims_data.info()"
   ]
  },
  {
   "cell_type": "code",
   "execution_count": 6,
   "id": "7f06510d",
   "metadata": {},
   "outputs": [
    {
     "name": "stdout",
     "output_type": "stream",
     "text": [
      "<class 'pandas.core.frame.DataFrame'>\n",
      "RangeIndex: 1085 entries, 0 to 1084\n",
      "Data columns (total 6 columns):\n",
      " #   Column       Non-Null Count  Dtype \n",
      "---  ------       --------------  ----- \n",
      " 0   CUST_ID      1085 non-null   int64 \n",
      " 1   gender       1085 non-null   object\n",
      " 2   DateOfBirth  1085 non-null   object\n",
      " 3   State        1085 non-null   object\n",
      " 4   Contact      1085 non-null   object\n",
      " 5   Segment      1085 non-null   object\n",
      "dtypes: int64(1), object(5)\n",
      "memory usage: 51.0+ KB\n"
     ]
    }
   ],
   "source": [
    "cust_demog.info()"
   ]
  },
  {
   "cell_type": "code",
   "execution_count": 7,
   "id": "860ecd6f",
   "metadata": {},
   "outputs": [],
   "source": [
    "# Observations about datatypes:\n",
    "\n",
    "# a. In claims_data variable claim_date and claim_amount needs to be in datetime and float type respectively.\n",
    "# b. In cust_demog variable DateOfBirth needs to be in datetime type.\n"
   ]
  },
  {
   "cell_type": "markdown",
   "id": "c699f7be",
   "metadata": {},
   "source": [
    "#### 3. Convert the column claim_amount to numeric. Use the appropriate modules/attributes to remove the $ sign."
   ]
  },
  {
   "cell_type": "code",
   "execution_count": 8,
   "id": "96a3fc92",
   "metadata": {},
   "outputs": [],
   "source": [
    "claims_data.claim_amount=claims_data.claim_amount.str.replace('$','').astype('float')\n",
    "claims_data.claim_date=pd.to_datetime(claims_data.claim_date, format='%m/%d/%Y')\n",
    "cust_demog.DateOfBirth=pd.to_datetime(cust_demog.DateOfBirth, format='%d-%b-%y')\n",
    "\n",
    "\n",
    "# Mering two data_sets to see the dob and claim-dates simultaneously \n",
    "\n",
    "insurance_claims_data=claims_data.merge(right=cust_demog,how='outer',left_on='customer_id',right_on='CUST_ID')"
   ]
  },
  {
   "cell_type": "code",
   "execution_count": 9,
   "id": "1e61e0d4",
   "metadata": {},
   "outputs": [],
   "source": [
    "#filtering records : where dateofbirth.year>2024 and is greater than claim_date.year\n",
    "# filling filtered records by: subtracting 100 years in dateofbirth OF Customer\n",
    "insurance_claims_data.DateOfBirth=np.where((insurance_claims_data.DateOfBirth.dt.year>2024)&(insurance_claims_data.DateOfBirth.dt.year>insurance_claims_data.claim_date.dt.year),insurance_claims_data.DateOfBirth - pd.DateOffset(years=100),insurance_claims_data.DateOfBirth)"
   ]
  },
  {
   "cell_type": "markdown",
   "id": "bb636003",
   "metadata": {},
   "source": [
    "#### 4. Of all the injury claims, some of them have gone unreported with the police. Create an alert flag (1,0) for all such claims."
   ]
  },
  {
   "cell_type": "code",
   "execution_count": 10,
   "id": "2b449e3f",
   "metadata": {},
   "outputs": [],
   "source": [
    "insurance_claims_data['alert_flag']=np.where((insurance_claims_data.claim_type=='Injury only')&(insurance_claims_data.police_report=='No'),1,0)"
   ]
  },
  {
   "cell_type": "markdown",
   "id": "aa3b0e9e",
   "metadata": {},
   "source": [
    "#### 5. One customer can claim for insurance more than once and in each claim, multiple categories of claims can be involved. However, customer ID should remain unique.\n",
    "\n",
    "Retain the most recent observation and delete any duplicated records in the data based on the customer ID column."
   ]
  },
  {
   "cell_type": "code",
   "execution_count": 11,
   "id": "a8118746",
   "metadata": {},
   "outputs": [],
   "source": [
    "insurance_claims_data.sort_values(by=['claim_date','customer_id'], ascending=[False,True]).reset_index(drop=True).drop_duplicates(subset='customer_id', keep='first', inplace=True)"
   ]
  },
  {
   "cell_type": "markdown",
   "id": "f3df4c9f",
   "metadata": {},
   "source": [
    "#### 6. Check for missing values and impute the missing values with an appropriate value. (mean for continuous and mode for categorical)"
   ]
  },
  {
   "cell_type": "code",
   "execution_count": 12,
   "id": "38cc6862",
   "metadata": {},
   "outputs": [
    {
     "data": {
      "text/plain": [
       "claim_id                7\n",
       "customer_id             7\n",
       "incident_cause          7\n",
       "claim_date              7\n",
       "claim_area              7\n",
       "police_report           7\n",
       "claim_type              7\n",
       "claim_amount           72\n",
       "total_policy_claims    17\n",
       "fraudulent              7\n",
       "CUST_ID                15\n",
       "gender                 15\n",
       "DateOfBirth            15\n",
       "State                  15\n",
       "Contact                15\n",
       "Segment                15\n",
       "alert_flag              0\n",
       "dtype: int64"
      ]
     },
     "execution_count": 12,
     "metadata": {},
     "output_type": "execute_result"
    }
   ],
   "source": [
    "#checking for missing values in data\n",
    "insurance_claims_data.isna().sum()"
   ]
  },
  {
   "cell_type": "code",
   "execution_count": 13,
   "id": "85586809",
   "metadata": {},
   "outputs": [
    {
     "name": "stdout",
     "output_type": "stream",
     "text": [
      "0\n",
      "0\n",
      "0\n",
      "0\n",
      "0\n",
      "0\n",
      "0\n",
      "0\n",
      "0\n",
      "0\n",
      "0\n",
      "0\n"
     ]
    }
   ],
   "source": [
    "#imputing the missing values\n",
    "cat_cols=['incident_cause', 'claim_area', 'police_report', 'claim_type','fraudulent', 'gender', 'State', 'Contact', 'Segment']\n",
    "conti_cols=['claim_amount', 'total_policy_claims','alert_flag']\n",
    "for i in cat_cols:\n",
    "    insurance_claims_data[i] = insurance_claims_data[i].fillna(insurance_claims_data[i].mode()[0])\n",
    "    \n",
    "insurance_claims_data[conti_cols] = insurance_claims_data[conti_cols].fillna(insurance_claims_data[conti_cols].mean())\n",
    "\n",
    "#confiming imputaion:\n",
    "for i in cat_cols:\n",
    "    print(insurance_claims_data[i].isna().sum()) \n",
    "for j in conti_cols:\n",
    "    print(insurance_claims_data[j].isna().sum())\n"
   ]
  },
  {
   "cell_type": "markdown",
   "id": "12d45a15",
   "metadata": {},
   "source": [
    "#### 7. Calculate the age of customers in years. Based on the age, categorize the customers according to the below criteria\n",
    "Children < 18,\n",
    "Youth 18-30,\n",
    "Adult 30-60,\n",
    "Senior > 60"
   ]
  },
  {
   "cell_type": "code",
   "execution_count": 14,
   "id": "52008195",
   "metadata": {},
   "outputs": [],
   "source": [
    "#calculations of age:\n",
    "insurance_claims_data['age']=pd.Timestamp.now().year-insurance_claims_data.DateOfBirth.dt.year\n"
   ]
  },
  {
   "cell_type": "code",
   "execution_count": 15,
   "id": "43f51f06",
   "metadata": {},
   "outputs": [
    {
     "data": {
      "text/html": [
       "<div>\n",
       "<style scoped>\n",
       "    .dataframe tbody tr th:only-of-type {\n",
       "        vertical-align: middle;\n",
       "    }\n",
       "\n",
       "    .dataframe tbody tr th {\n",
       "        vertical-align: top;\n",
       "    }\n",
       "\n",
       "    .dataframe thead th {\n",
       "        text-align: right;\n",
       "    }\n",
       "</style>\n",
       "<table border=\"1\" class=\"dataframe\">\n",
       "  <thead>\n",
       "    <tr style=\"text-align: right;\">\n",
       "      <th></th>\n",
       "      <th>claim_id</th>\n",
       "      <th>customer_id</th>\n",
       "      <th>incident_cause</th>\n",
       "      <th>claim_date</th>\n",
       "      <th>claim_area</th>\n",
       "      <th>police_report</th>\n",
       "      <th>claim_type</th>\n",
       "      <th>claim_amount</th>\n",
       "      <th>total_policy_claims</th>\n",
       "      <th>fraudulent</th>\n",
       "      <th>CUST_ID</th>\n",
       "      <th>gender</th>\n",
       "      <th>DateOfBirth</th>\n",
       "      <th>State</th>\n",
       "      <th>Contact</th>\n",
       "      <th>Segment</th>\n",
       "      <th>alert_flag</th>\n",
       "      <th>age</th>\n",
       "      <th>Age_category</th>\n",
       "    </tr>\n",
       "  </thead>\n",
       "  <tbody>\n",
       "    <tr>\n",
       "      <th>212</th>\n",
       "      <td>43722644.0</td>\n",
       "      <td>36395486.0</td>\n",
       "      <td>Other causes</td>\n",
       "      <td>2017-01-07</td>\n",
       "      <td>Home</td>\n",
       "      <td>No</td>\n",
       "      <td>Material only</td>\n",
       "      <td>3335.000000</td>\n",
       "      <td>3.0</td>\n",
       "      <td>Yes</td>\n",
       "      <td>36395486.0</td>\n",
       "      <td>Male</td>\n",
       "      <td>1971-03-06</td>\n",
       "      <td>ND</td>\n",
       "      <td>365-482-4683</td>\n",
       "      <td>Gold</td>\n",
       "      <td>0</td>\n",
       "      <td>53.0</td>\n",
       "      <td>Adult</td>\n",
       "    </tr>\n",
       "    <tr>\n",
       "      <th>795</th>\n",
       "      <td>72238494.0</td>\n",
       "      <td>63238733.0</td>\n",
       "      <td>Other causes</td>\n",
       "      <td>2017-09-07</td>\n",
       "      <td>Auto</td>\n",
       "      <td>No</td>\n",
       "      <td>Injury only</td>\n",
       "      <td>12442.125121</td>\n",
       "      <td>1.0</td>\n",
       "      <td>No</td>\n",
       "      <td>63238733.0</td>\n",
       "      <td>Female</td>\n",
       "      <td>1993-09-08</td>\n",
       "      <td>AZ</td>\n",
       "      <td>268-398-8256</td>\n",
       "      <td>Gold</td>\n",
       "      <td>1</td>\n",
       "      <td>31.0</td>\n",
       "      <td>Adult</td>\n",
       "    </tr>\n",
       "    <tr>\n",
       "      <th>1049</th>\n",
       "      <td>67060119.0</td>\n",
       "      <td>12015897.0</td>\n",
       "      <td>Driver error</td>\n",
       "      <td>2018-10-09</td>\n",
       "      <td>Auto</td>\n",
       "      <td>Unknown</td>\n",
       "      <td>Material only</td>\n",
       "      <td>2270.000000</td>\n",
       "      <td>6.0</td>\n",
       "      <td>No</td>\n",
       "      <td>12015897.0</td>\n",
       "      <td>Male</td>\n",
       "      <td>1971-11-16</td>\n",
       "      <td>WA</td>\n",
       "      <td>465-854-9358</td>\n",
       "      <td>Silver</td>\n",
       "      <td>0</td>\n",
       "      <td>53.0</td>\n",
       "      <td>Adult</td>\n",
       "    </tr>\n",
       "  </tbody>\n",
       "</table>\n",
       "</div>"
      ],
      "text/plain": [
       "        claim_id  customer_id incident_cause claim_date claim_area  \\\n",
       "212   43722644.0   36395486.0   Other causes 2017-01-07       Home   \n",
       "795   72238494.0   63238733.0   Other causes 2017-09-07       Auto   \n",
       "1049  67060119.0   12015897.0   Driver error 2018-10-09       Auto   \n",
       "\n",
       "     police_report     claim_type  claim_amount  total_policy_claims  \\\n",
       "212             No  Material only   3335.000000                  3.0   \n",
       "795             No    Injury only  12442.125121                  1.0   \n",
       "1049       Unknown  Material only   2270.000000                  6.0   \n",
       "\n",
       "     fraudulent     CUST_ID  gender DateOfBirth State       Contact Segment  \\\n",
       "212         Yes  36395486.0    Male  1971-03-06    ND  365-482-4683    Gold   \n",
       "795          No  63238733.0  Female  1993-09-08    AZ  268-398-8256    Gold   \n",
       "1049         No  12015897.0    Male  1971-11-16    WA  465-854-9358  Silver   \n",
       "\n",
       "      alert_flag   age Age_category  \n",
       "212            0  53.0        Adult  \n",
       "795            1  31.0        Adult  \n",
       "1049           0  53.0        Adult  "
      ]
     },
     "execution_count": 15,
     "metadata": {},
     "output_type": "execute_result"
    }
   ],
   "source": [
    "col='age'\n",
    "cond=[insurance_claims_data[col]>60,(insurance_claims_data[col]<=60)&(insurance_claims_data[col]>30),(insurance_claims_data[col]<=30)&(insurance_claims_data[col]>18),insurance_claims_data[col] <=18]\n",
    "choices=['Senior','Adult','Youth','Children']\n",
    "insurance_claims_data[\"Age_category\"]=np.select(cond,choices,default=np.nan)\n",
    "insurance_claims_data.sample(3)"
   ]
  },
  {
   "cell_type": "markdown",
   "id": "c9bda704",
   "metadata": {},
   "source": [
    "#### 8. What is the average amount claimed by the customers from various segments?"
   ]
  },
  {
   "cell_type": "code",
   "execution_count": 16,
   "id": "7e901596",
   "metadata": {},
   "outputs": [
    {
     "data": {
      "text/html": [
       "<div>\n",
       "<style scoped>\n",
       "    .dataframe tbody tr th:only-of-type {\n",
       "        vertical-align: middle;\n",
       "    }\n",
       "\n",
       "    .dataframe tbody tr th {\n",
       "        vertical-align: top;\n",
       "    }\n",
       "\n",
       "    .dataframe thead th {\n",
       "        text-align: right;\n",
       "    }\n",
       "</style>\n",
       "<table border=\"1\" class=\"dataframe\">\n",
       "  <thead>\n",
       "    <tr style=\"text-align: right;\">\n",
       "      <th></th>\n",
       "      <th>Segment</th>\n",
       "      <th>claim_amount</th>\n",
       "    </tr>\n",
       "  </thead>\n",
       "  <tbody>\n",
       "    <tr>\n",
       "      <th>0</th>\n",
       "      <td>Gold</td>\n",
       "      <td>12745.668485</td>\n",
       "    </tr>\n",
       "    <tr>\n",
       "      <th>1</th>\n",
       "      <td>Platinum</td>\n",
       "      <td>12341.725348</td>\n",
       "    </tr>\n",
       "    <tr>\n",
       "      <th>2</th>\n",
       "      <td>Silver</td>\n",
       "      <td>12208.394241</td>\n",
       "    </tr>\n",
       "  </tbody>\n",
       "</table>\n",
       "</div>"
      ],
      "text/plain": [
       "    Segment  claim_amount\n",
       "0      Gold  12745.668485\n",
       "1  Platinum  12341.725348\n",
       "2    Silver  12208.394241"
      ]
     },
     "execution_count": 16,
     "metadata": {},
     "output_type": "execute_result"
    }
   ],
   "source": [
    "insurance_claims_data.groupby('Segment')['claim_amount'].mean().reset_index()"
   ]
  },
  {
   "cell_type": "markdown",
   "id": "f5af71af",
   "metadata": {},
   "source": [
    "#### 9. What is the total claim amount based on incident cause for all the claims that have been done at least 20 days prior to 1st of October, 2018."
   ]
  },
  {
   "cell_type": "code",
   "execution_count": 17,
   "id": "c7db8ff1",
   "metadata": {},
   "outputs": [
    {
     "data": {
      "text/html": [
       "<div>\n",
       "<style scoped>\n",
       "    .dataframe tbody tr th:only-of-type {\n",
       "        vertical-align: middle;\n",
       "    }\n",
       "\n",
       "    .dataframe tbody tr th {\n",
       "        vertical-align: top;\n",
       "    }\n",
       "\n",
       "    .dataframe thead th {\n",
       "        text-align: right;\n",
       "    }\n",
       "</style>\n",
       "<table border=\"1\" class=\"dataframe\">\n",
       "  <thead>\n",
       "    <tr style=\"text-align: right;\">\n",
       "      <th></th>\n",
       "      <th>incident_cause</th>\n",
       "      <th>claim_amount</th>\n",
       "    </tr>\n",
       "  </thead>\n",
       "  <tbody>\n",
       "    <tr>\n",
       "      <th>0</th>\n",
       "      <td>Crime</td>\n",
       "      <td>729472.63</td>\n",
       "    </tr>\n",
       "    <tr>\n",
       "      <th>1</th>\n",
       "      <td>Driver error</td>\n",
       "      <td>3348655.50</td>\n",
       "    </tr>\n",
       "    <tr>\n",
       "      <th>2</th>\n",
       "      <td>Natural causes</td>\n",
       "      <td>1316440.63</td>\n",
       "    </tr>\n",
       "    <tr>\n",
       "      <th>3</th>\n",
       "      <td>Other causes</td>\n",
       "      <td>3779869.38</td>\n",
       "    </tr>\n",
       "    <tr>\n",
       "      <th>4</th>\n",
       "      <td>Other driver error</td>\n",
       "      <td>3384045.13</td>\n",
       "    </tr>\n",
       "  </tbody>\n",
       "</table>\n",
       "</div>"
      ],
      "text/plain": [
       "       incident_cause  claim_amount\n",
       "0               Crime     729472.63\n",
       "1        Driver error    3348655.50\n",
       "2      Natural causes    1316440.63\n",
       "3        Other causes    3779869.38\n",
       "4  Other driver error    3384045.13"
      ]
     },
     "execution_count": 17,
     "metadata": {},
     "output_type": "execute_result"
    }
   ],
   "source": [
    "round(insurance_claims_data[insurance_claims_data.claim_date<=(pd.Timestamp('01-oct-2018')+pd.DateOffset(days=-20))].groupby('incident_cause')['claim_amount'].sum(),2).reset_index()"
   ]
  },
  {
   "cell_type": "markdown",
   "id": "fc05acf1",
   "metadata": {},
   "source": [
    "#### 10. How many adults from TX, DE and AK claimed insurance for driver related issues and causes?"
   ]
  },
  {
   "cell_type": "code",
   "execution_count": 18,
   "id": "ae9a2156",
   "metadata": {},
   "outputs": [
    {
     "data": {
      "text/html": [
       "<div>\n",
       "<style scoped>\n",
       "    .dataframe tbody tr th:only-of-type {\n",
       "        vertical-align: middle;\n",
       "    }\n",
       "\n",
       "    .dataframe tbody tr th {\n",
       "        vertical-align: top;\n",
       "    }\n",
       "\n",
       "    .dataframe thead th {\n",
       "        text-align: right;\n",
       "    }\n",
       "</style>\n",
       "<table border=\"1\" class=\"dataframe\">\n",
       "  <thead>\n",
       "    <tr style=\"text-align: right;\">\n",
       "      <th></th>\n",
       "      <th>Age_category</th>\n",
       "      <th>claim_amount</th>\n",
       "    </tr>\n",
       "  </thead>\n",
       "  <tbody>\n",
       "    <tr>\n",
       "      <th>0</th>\n",
       "      <td>Adult</td>\n",
       "      <td>220554.38</td>\n",
       "    </tr>\n",
       "  </tbody>\n",
       "</table>\n",
       "</div>"
      ],
      "text/plain": [
       "  Age_category  claim_amount\n",
       "0        Adult     220554.38"
      ]
     },
     "execution_count": 18,
     "metadata": {},
     "output_type": "execute_result"
    }
   ],
   "source": [
    "temp=insurance_claims_data[(insurance_claims_data.State.isin(['TX', 'DE', 'AK']))&(insurance_claims_data.incident_cause=='Driver error')].groupby('Age_category')['claim_amount'].sum().reset_index()\n",
    "round(temp[temp.Age_category=='Adult'],2)"
   ]
  },
  {
   "cell_type": "markdown",
   "id": "36b422ca",
   "metadata": {},
   "source": [
    "#### 11. Draw a pie chart between the aggregated value of claim amount based on gender and segment. Represent the claim amount as a percentage on the pie chart."
   ]
  },
  {
   "cell_type": "code",
   "execution_count": 19,
   "id": "3c9f2d41",
   "metadata": {},
   "outputs": [
    {
     "data": {
      "image/png": "[encoded data removed]",
      "text/plain": [
       "<Figure size 600x300 with 1 Axes>"
      ]
     },
     "metadata": {},
     "output_type": "display_data"
    },
    {
     "data": {
      "image/png": "[encoded data removed]",
      "text/plain": [
       "<Figure size 600x300 with 1 Axes>"
      ]
     },
     "metadata": {},
     "output_type": "display_data"
    }
   ],
   "source": [
    "#pie_chart_data\n",
    "male_data=insurance_claims_data[insurance_claims_data.gender=='Male'].groupby(['Segment'])['claim_amount'].sum()\n",
    "female_data=insurance_claims_data[insurance_claims_data.gender=='Female'].groupby(['Segment'])['claim_amount'].sum()\n",
    "# pie plots\n",
    "\n",
    "male_data.plot(kind='pie',legend = False, figsize = (6,3), autopct='%0.2f %%' )\n",
    "plt.title('Insurance claim by males')\n",
    "plt.show()\n",
    "female_data.plot(kind='pie', legend = False, figsize = (6,3), autopct='%0.2f %%')\n",
    "plt.title('Insurance claim by females')\n",
    "plt.show()\n",
    "\n"
   ]
  },
  {
   "cell_type": "markdown",
   "id": "eda412e7",
   "metadata": {},
   "source": [
    "#### 12. Among males and females, which gender had claimed the most for anytype of driver related issues?\n",
    " E.g. This metric can be compared using a bar chart"
   ]
  },
  {
   "cell_type": "code",
   "execution_count": 20,
   "id": "286998d6",
   "metadata": {},
   "outputs": [
    {
     "data": {
      "text/html": [
       "<div>\n",
       "<style scoped>\n",
       "    .dataframe tbody tr th:only-of-type {\n",
       "        vertical-align: middle;\n",
       "    }\n",
       "\n",
       "    .dataframe tbody tr th {\n",
       "        vertical-align: top;\n",
       "    }\n",
       "\n",
       "    .dataframe thead th {\n",
       "        text-align: right;\n",
       "    }\n",
       "</style>\n",
       "<table border=\"1\" class=\"dataframe\">\n",
       "  <thead>\n",
       "    <tr style=\"text-align: right;\">\n",
       "      <th></th>\n",
       "      <th>gender</th>\n",
       "      <th>count_of_gender</th>\n",
       "    </tr>\n",
       "  </thead>\n",
       "  <tbody>\n",
       "    <tr>\n",
       "      <th>0</th>\n",
       "      <td>Female</td>\n",
       "      <td>222</td>\n",
       "    </tr>\n",
       "    <tr>\n",
       "      <th>1</th>\n",
       "      <td>Male</td>\n",
       "      <td>289</td>\n",
       "    </tr>\n",
       "  </tbody>\n",
       "</table>\n",
       "</div>"
      ],
      "text/plain": [
       "   gender  count_of_gender\n",
       "0  Female              222\n",
       "1    Male              289"
      ]
     },
     "execution_count": 20,
     "metadata": {},
     "output_type": "execute_result"
    }
   ],
   "source": [
    "tmp=insurance_claims_data[insurance_claims_data.incident_cause.isin(['Driver error', 'Other driver error'])].groupby('gender').agg({'gender':'count'}).add_prefix('count_of_').reset_index()\n",
    "tmp"
   ]
  },
  {
   "cell_type": "code",
   "execution_count": 21,
   "id": "6321ae4c",
   "metadata": {},
   "outputs": [
    {
     "data": {
      "image/png": "[encoded data removed]",
      "text/plain": [
       "<Figure size 640x480 with 1 Axes>"
      ]
     },
     "metadata": {},
     "output_type": "display_data"
    }
   ],
   "source": [
    "sns.barplot(x = \"gender\", y = \"count_of_gender\", data = tmp )\n",
    "plt.show()"
   ]
  },
  {
   "cell_type": "markdown",
   "id": "02070693",
   "metadata": {},
   "source": [
    "#### 13. Which age group had the maximum fraudulent policy claims? Visualize it on a bar chart."
   ]
  },
  {
   "cell_type": "code",
   "execution_count": 22,
   "id": "f45b8bf4",
   "metadata": {},
   "outputs": [
    {
     "data": {
      "text/html": [
       "<div>\n",
       "<style scoped>\n",
       "    .dataframe tbody tr th:only-of-type {\n",
       "        vertical-align: middle;\n",
       "    }\n",
       "\n",
       "    .dataframe tbody tr th {\n",
       "        vertical-align: top;\n",
       "    }\n",
       "\n",
       "    .dataframe thead th {\n",
       "        text-align: right;\n",
       "    }\n",
       "</style>\n",
       "<table border=\"1\" class=\"dataframe\">\n",
       "  <thead>\n",
       "    <tr style=\"text-align: right;\">\n",
       "      <th></th>\n",
       "      <th>Age_category</th>\n",
       "      <th>total_policy_claims</th>\n",
       "    </tr>\n",
       "  </thead>\n",
       "  <tbody>\n",
       "    <tr>\n",
       "      <th>0</th>\n",
       "      <td>Adult</td>\n",
       "      <td>318.591743</td>\n",
       "    </tr>\n",
       "    <tr>\n",
       "      <th>1</th>\n",
       "      <td>Senior</td>\n",
       "      <td>50.000000</td>\n",
       "    </tr>\n",
       "    <tr>\n",
       "      <th>2</th>\n",
       "      <td>Youth</td>\n",
       "      <td>61.000000</td>\n",
       "    </tr>\n",
       "    <tr>\n",
       "      <th>3</th>\n",
       "      <td>nan</td>\n",
       "      <td>15.000000</td>\n",
       "    </tr>\n",
       "  </tbody>\n",
       "</table>\n",
       "</div>"
      ],
      "text/plain": [
       "  Age_category  total_policy_claims\n",
       "0        Adult           318.591743\n",
       "1       Senior            50.000000\n",
       "2        Youth            61.000000\n",
       "3          nan            15.000000"
      ]
     },
     "execution_count": 22,
     "metadata": {},
     "output_type": "execute_result"
    }
   ],
   "source": [
    "fraudulent_data=insurance_claims_data[insurance_claims_data.fraudulent=='Yes'].groupby('Age_category').agg({'total_policy_claims':'sum'}).reset_index()\n",
    "\n",
    "fraudulent_data"
   ]
  },
  {
   "cell_type": "code",
   "execution_count": 23,
   "id": "25d66c69",
   "metadata": {},
   "outputs": [
    {
     "data": {
      "image/png": "[encoded data removed]",
      "text/plain": [
       "<Figure size 640x480 with 1 Axes>"
      ]
     },
     "metadata": {},
     "output_type": "display_data"
    }
   ],
   "source": [
    "#bar plot:\n",
    "sns.barplot(x = \"Age_category\", y = \"total_policy_claims\", data = fraudulent_data )\n",
    "plt.show()"
   ]
  },
  {
   "cell_type": "markdown",
   "id": "e74bfce1",
   "metadata": {},
   "source": [
    "#### 14. Visualize the monthly trend of the total amount that has been claimed by the customers. \n",
    "#Ensure that on the “month” axis, the month is in a chronological order not alphabetical order."
   ]
  },
  {
   "cell_type": "code",
   "execution_count": 24,
   "id": "85299775",
   "metadata": {},
   "outputs": [
    {
     "data": {
      "image/png": "[encoded data removed]",
      "text/plain": [
       "<Figure size 700x500 with 1 Axes>"
      ]
     },
     "metadata": {},
     "output_type": "display_data"
    }
   ],
   "source": [
    "insurance_claims_data['claim_date'] = pd.to_datetime(insurance_claims_data['claim_date'], format='%m/%d/%Y')\n",
    "\n",
    "monthly_claims = insurance_claims_data.groupby(insurance_claims_data['claim_date'].dt.to_period('M'))['claim_amount'].sum()\n",
    "\n",
    "fig, ax = plt.subplots(figsize=(7,5))\n",
    "monthly_claims.plot(kind='line',ax=ax)\n",
    "ax.set_xlabel('Month')\n",
    "ax.set_ylabel('Total Claim Amount')\n",
    "ax.set_title('Monthly Trend of Total Claim Amount')\n",
    "plt.xticks(rotation=45, ha='right')\n",
    "plt.tight_layout()\n",
    "plt.show()"
   ]
  },
  {
   "cell_type": "markdown",
   "id": "3ab78d7d",
   "metadata": {},
   "source": [
    "#### 15. What is the average claim amount for gender and age categories and suitably represent the above using a facetted bar chart, one facet that represents fraudulent claims and the other for non-fraudulent claims. \n"
   ]
  },
  {
   "cell_type": "code",
   "execution_count": 25,
   "id": "c321fd13",
   "metadata": {},
   "outputs": [
    {
     "data": {
      "text/html": [
       "<div>\n",
       "<style scoped>\n",
       "    .dataframe tbody tr th:only-of-type {\n",
       "        vertical-align: middle;\n",
       "    }\n",
       "\n",
       "    .dataframe tbody tr th {\n",
       "        vertical-align: top;\n",
       "    }\n",
       "\n",
       "    .dataframe thead th {\n",
       "        text-align: right;\n",
       "    }\n",
       "</style>\n",
       "<table border=\"1\" class=\"dataframe\">\n",
       "  <thead>\n",
       "    <tr style=\"text-align: right;\">\n",
       "      <th></th>\n",
       "      <th>gender</th>\n",
       "      <th>Age_category</th>\n",
       "      <th>fraudulent</th>\n",
       "      <th>claim_amount</th>\n",
       "    </tr>\n",
       "  </thead>\n",
       "  <tbody>\n",
       "    <tr>\n",
       "      <th>0</th>\n",
       "      <td>Female</td>\n",
       "      <td>Adult</td>\n",
       "      <td>No</td>\n",
       "      <td>12093.893858</td>\n",
       "    </tr>\n",
       "    <tr>\n",
       "      <th>1</th>\n",
       "      <td>Female</td>\n",
       "      <td>Adult</td>\n",
       "      <td>Yes</td>\n",
       "      <td>12645.473129</td>\n",
       "    </tr>\n",
       "    <tr>\n",
       "      <th>2</th>\n",
       "      <td>Female</td>\n",
       "      <td>Children</td>\n",
       "      <td>No</td>\n",
       "      <td>12442.125121</td>\n",
       "    </tr>\n",
       "    <tr>\n",
       "      <th>3</th>\n",
       "      <td>Female</td>\n",
       "      <td>Senior</td>\n",
       "      <td>No</td>\n",
       "      <td>13339.780325</td>\n",
       "    </tr>\n",
       "    <tr>\n",
       "      <th>4</th>\n",
       "      <td>Female</td>\n",
       "      <td>Senior</td>\n",
       "      <td>Yes</td>\n",
       "      <td>3332.294118</td>\n",
       "    </tr>\n",
       "    <tr>\n",
       "      <th>5</th>\n",
       "      <td>Female</td>\n",
       "      <td>Youth</td>\n",
       "      <td>No</td>\n",
       "      <td>13136.789862</td>\n",
       "    </tr>\n",
       "    <tr>\n",
       "      <th>6</th>\n",
       "      <td>Female</td>\n",
       "      <td>Youth</td>\n",
       "      <td>Yes</td>\n",
       "      <td>10137.140640</td>\n",
       "    </tr>\n",
       "    <tr>\n",
       "      <th>7</th>\n",
       "      <td>Male</td>\n",
       "      <td>Adult</td>\n",
       "      <td>No</td>\n",
       "      <td>12179.423750</td>\n",
       "    </tr>\n",
       "    <tr>\n",
       "      <th>8</th>\n",
       "      <td>Male</td>\n",
       "      <td>Adult</td>\n",
       "      <td>Yes</td>\n",
       "      <td>15595.487121</td>\n",
       "    </tr>\n",
       "    <tr>\n",
       "      <th>9</th>\n",
       "      <td>Male</td>\n",
       "      <td>Senior</td>\n",
       "      <td>No</td>\n",
       "      <td>10868.238378</td>\n",
       "    </tr>\n",
       "    <tr>\n",
       "      <th>10</th>\n",
       "      <td>Male</td>\n",
       "      <td>Senior</td>\n",
       "      <td>Yes</td>\n",
       "      <td>19463.111111</td>\n",
       "    </tr>\n",
       "    <tr>\n",
       "      <th>11</th>\n",
       "      <td>Male</td>\n",
       "      <td>Youth</td>\n",
       "      <td>No</td>\n",
       "      <td>13262.300998</td>\n",
       "    </tr>\n",
       "    <tr>\n",
       "      <th>12</th>\n",
       "      <td>Male</td>\n",
       "      <td>Youth</td>\n",
       "      <td>Yes</td>\n",
       "      <td>8933.908341</td>\n",
       "    </tr>\n",
       "    <tr>\n",
       "      <th>13</th>\n",
       "      <td>Male</td>\n",
       "      <td>nan</td>\n",
       "      <td>No</td>\n",
       "      <td>10866.250000</td>\n",
       "    </tr>\n",
       "    <tr>\n",
       "      <th>14</th>\n",
       "      <td>Male</td>\n",
       "      <td>nan</td>\n",
       "      <td>Yes</td>\n",
       "      <td>10519.214286</td>\n",
       "    </tr>\n",
       "  </tbody>\n",
       "</table>\n",
       "</div>"
      ],
      "text/plain": [
       "    gender Age_category fraudulent  claim_amount\n",
       "0   Female        Adult         No  12093.893858\n",
       "1   Female        Adult        Yes  12645.473129\n",
       "2   Female     Children         No  12442.125121\n",
       "3   Female       Senior         No  13339.780325\n",
       "4   Female       Senior        Yes   3332.294118\n",
       "5   Female        Youth         No  13136.789862\n",
       "6   Female        Youth        Yes  10137.140640\n",
       "7     Male        Adult         No  12179.423750\n",
       "8     Male        Adult        Yes  15595.487121\n",
       "9     Male       Senior         No  10868.238378\n",
       "10    Male       Senior        Yes  19463.111111\n",
       "11    Male        Youth         No  13262.300998\n",
       "12    Male        Youth        Yes   8933.908341\n",
       "13    Male          nan         No  10866.250000\n",
       "14    Male          nan        Yes  10519.214286"
      ]
     },
     "execution_count": 25,
     "metadata": {},
     "output_type": "execute_result"
    }
   ],
   "source": [
    "avg_claim_amount = insurance_claims_data.groupby(['gender', 'Age_category', 'fraudulent'])['claim_amount'].mean().reset_index()\n",
    "avg_claim_amount\n"
   ]
  },
  {
   "cell_type": "code",
   "execution_count": 26,
   "id": "981a9310",
   "metadata": {},
   "outputs": [
    {
     "name": "stderr",
     "output_type": "stream",
     "text": [
      "C:\\Users\\DELL\\AppData\\Local\\Temp\\ipykernel_10132\\3479164672.py:3: FutureWarning: \n",
      "\n",
      "The `ci` parameter is deprecated. Use `errorbar=None` for the same effect.\n",
      "\n",
      "  sns.barplot(x='Age_category', y='claim_amount', hue='gender', data=avg_claim_amount, ci=None)\n"
     ]
    },
    {
     "data": {
      "image/png": "[encoded data removed]",
      "text/plain": [
       "<Figure size 1200x600 with 1 Axes>"
      ]
     },
     "metadata": {},
     "output_type": "display_data"
    }
   ],
   "source": [
    "# Facetted bar chart using seaborn\n",
    "plt.figure(figsize=(12, 6))\n",
    "sns.barplot(x='Age_category', y='claim_amount', hue='gender', data=avg_claim_amount, ci=None)\n",
    "plt.xlabel('Age Category')\n",
    "plt.ylabel('Average Claim Amount')\n",
    "plt.suptitle('Average Claim Amount by Gender and Age Category (Facetted by Fraudulent Claims)', y=1.02)\n",
    "plt.legend(title='Gender', loc='upper right', labels=['Female', 'Male'])\n",
    "plt.grid(True)\n",
    "plt.show()\n",
    "\n"
   ]
  },
  {
   "cell_type": "markdown",
   "id": "f74d9f4f",
   "metadata": {},
   "source": [
    "## Based on the conclusions from exploratory analysis as well as suitable statistical tests, answer the below questions. \n",
    "Please include a detailed write-up on the parameters taken into consideration, the Hypothesis testing steps, conclusion from the p-values and the business implications of the statements."
   ]
  },
  {
   "cell_type": "markdown",
   "id": "17071be8",
   "metadata": {},
   "source": [
    "#### 16. Is there any similarity in the amount claimed by males and females?"
   ]
  },
  {
   "cell_type": "code",
   "execution_count": 27,
   "id": "def05536",
   "metadata": {},
   "outputs": [
    {
     "data": {
      "text/plain": [
       "Segment\n",
       "Gold        2.861606e+06\n",
       "Platinum    2.122983e+06\n",
       "Silver      2.346240e+06\n",
       "Name: claim_amount, dtype: float64"
      ]
     },
     "execution_count": 27,
     "metadata": {},
     "output_type": "execute_result"
    }
   ],
   "source": [
    "male_data=insurance_claims_data[insurance_claims_data.gender=='Male'].groupby(['Segment'])['claim_amount'].sum()\n",
    "male_data"
   ]
  },
  {
   "cell_type": "code",
   "execution_count": 28,
   "id": "57970f09",
   "metadata": {},
   "outputs": [
    {
     "data": {
      "text/plain": [
       "Segment\n",
       "Gold        2.121950e+06\n",
       "Platinum    2.381747e+06\n",
       "Silver      1.938906e+06\n",
       "Name: claim_amount, dtype: float64"
      ]
     },
     "execution_count": 28,
     "metadata": {},
     "output_type": "execute_result"
    }
   ],
   "source": [
    "female_data=insurance_claims_data[insurance_claims_data.gender=='Female'].groupby(['Segment'])['claim_amount'].sum()\n",
    "female_data"
   ]
  },
  {
   "cell_type": "code",
   "execution_count": 29,
   "id": "e3c36ca1",
   "metadata": {},
   "outputs": [],
   "source": [
    "# Observations from datasets male_data and female_data\n",
    "\n",
    "# Ho(null hypothesis): No similarity in the amount claimed by males and females\n",
    "# Ha(alternative hypothesis): there is similarity in the amount claimed by males and females\n",
    "# number of observations are <30 : wee will perfom t-test.\n",
    "# alpha=0.05 (confidence interval is 95%)\n",
    "# we need to check the p value: if it is >alpha then We fail to reject null hypothesis."
   ]
  },
  {
   "cell_type": "code",
   "execution_count": 30,
   "id": "39d31302",
   "metadata": {},
   "outputs": [
    {
     "name": "stdout",
     "output_type": "stream",
     "text": [
      "equal-variance value is(t-value) : 1.1672451321667465\n",
      "unequal-variance value is(t-value) : 1.1672451321667465\n"
     ]
    }
   ],
   "source": [
    "eq_var = stats.ttest_ind(a= male_data,b= female_data,equal_var=True)    # equal variance\n",
    "print(f'equal-variance value is(t-value) : {eq_var.statistic}')\n",
    "uneq_var = stats.ttest_ind(a= male_data,b= female_data,equal_var=False)    # unequal variance\n",
    "print(f'unequal-variance value is(t-value) : {uneq_var.statistic}')"
   ]
  },
  {
   "cell_type": "code",
   "execution_count": 31,
   "id": "93989329",
   "metadata": {},
   "outputs": [],
   "source": [
    "#The t score of the variables is very similar thus we will consider it as equal variance"
   ]
  },
  {
   "cell_type": "code",
   "execution_count": 32,
   "id": "31e09892",
   "metadata": {},
   "outputs": [
    {
     "name": "stdout",
     "output_type": "stream",
     "text": [
      "For the above test, the t-score is 1.1672451321667465 and the p-value is 0.3079478116083584\n",
      "We fail to reject null hypothesis\n",
      "As p-value>0.05, By t-test we concluded that There is similarity in the amount claimed by males and females\n"
     ]
    }
   ],
   "source": [
    "t_val= eq_var.statistic\n",
    "p_val= eq_var.pvalue\n",
    "print(f\"For the above test, the t-score is {t_val} and the p-value is {p_val}\")\n",
    "\n",
    "if(p_val<0.05):\n",
    "    print('We reject null hypothesis')\n",
    "    print('As p-value<0.05, By t-test we concluded that No similarity in the amount claimed by males and females')\n",
    "else:\n",
    "    print('We fail to reject null hypothesis')\n",
    "    print('As p-value>0.05, By t-test we concluded that There is similarity in the amount claimed by males and females')"
   ]
  },
  {
   "cell_type": "markdown",
   "id": "bc117da2",
   "metadata": {},
   "source": [
    "#### 17. Is there any relationship between age category and segment?"
   ]
  },
  {
   "cell_type": "code",
   "execution_count": 33,
   "id": "e3331d59",
   "metadata": {},
   "outputs": [],
   "source": [
    "\n",
    "# Observations from datasets male_data and female_data\n",
    "\n",
    "# H0= No relation between Age_category and segment\n",
    "# Ha= There is a relationship between Age_category and segment\n",
    "# To find out this relationship we will use Chi Square test\n",
    "# alpha=0.05 (confidence interval is 95%)\n",
    "# we need to check the p value: if it is >alpha then We fail to reject null hypothesis."
   ]
  },
  {
   "cell_type": "code",
   "execution_count": 34,
   "id": "35b235d5",
   "metadata": {},
   "outputs": [
    {
     "data": {
      "text/html": [
       "<div>\n",
       "<style scoped>\n",
       "    .dataframe tbody tr th:only-of-type {\n",
       "        vertical-align: middle;\n",
       "    }\n",
       "\n",
       "    .dataframe tbody tr th {\n",
       "        vertical-align: top;\n",
       "    }\n",
       "\n",
       "    .dataframe thead th {\n",
       "        text-align: right;\n",
       "    }\n",
       "</style>\n",
       "<table border=\"1\" class=\"dataframe\">\n",
       "  <thead>\n",
       "    <tr style=\"text-align: right;\">\n",
       "      <th>Segment</th>\n",
       "      <th>Gold</th>\n",
       "      <th>Platinum</th>\n",
       "      <th>Silver</th>\n",
       "    </tr>\n",
       "    <tr>\n",
       "      <th>Age_category</th>\n",
       "      <th></th>\n",
       "      <th></th>\n",
       "      <th></th>\n",
       "    </tr>\n",
       "  </thead>\n",
       "  <tbody>\n",
       "    <tr>\n",
       "      <th>Adult</th>\n",
       "      <td>282</td>\n",
       "      <td>271</td>\n",
       "      <td>260</td>\n",
       "    </tr>\n",
       "    <tr>\n",
       "      <th>Children</th>\n",
       "      <td>0</td>\n",
       "      <td>0</td>\n",
       "      <td>1</td>\n",
       "    </tr>\n",
       "    <tr>\n",
       "      <th>Senior</th>\n",
       "      <td>38</td>\n",
       "      <td>34</td>\n",
       "      <td>30</td>\n",
       "    </tr>\n",
       "    <tr>\n",
       "      <th>Youth</th>\n",
       "      <td>56</td>\n",
       "      <td>60</td>\n",
       "      <td>60</td>\n",
       "    </tr>\n",
       "    <tr>\n",
       "      <th>nan</th>\n",
       "      <td>15</td>\n",
       "      <td>0</td>\n",
       "      <td>0</td>\n",
       "    </tr>\n",
       "  </tbody>\n",
       "</table>\n",
       "</div>"
      ],
      "text/plain": [
       "Segment       Gold  Platinum  Silver\n",
       "Age_category                        \n",
       "Adult          282       271     260\n",
       "Children         0         0       1\n",
       "Senior          38        34      30\n",
       "Youth           56        60      60\n",
       "nan             15         0       0"
      ]
     },
     "execution_count": 34,
     "metadata": {},
     "output_type": "execute_result"
    }
   ],
   "source": [
    "age_seg_combo=pd.crosstab(insurance_claims_data.Age_category, insurance_claims_data.Segment)\n",
    "age_seg_combo"
   ]
  },
  {
   "cell_type": "code",
   "execution_count": 35,
   "id": "ed0b41b8",
   "metadata": {},
   "outputs": [
    {
     "data": {
      "text/plain": [
       "Chi2ContingencyResult(statistic=31.04087346356428, pvalue=0.0001381692922087835, dof=8, expected_freq=array([[287.15718157, 268.06233062, 257.7804878 ],\n",
       "       [  0.35320687,   0.32971996,   0.31707317],\n",
       "       [ 36.02710027,  33.63143631,  32.34146341],\n",
       "       [ 62.16440831,  58.03071364,  55.80487805],\n",
       "       [  5.29810298,   4.94579946,   4.75609756]]))"
      ]
     },
     "execution_count": 35,
     "metadata": {},
     "output_type": "execute_result"
    }
   ],
   "source": [
    "chisqr_test = stats.chi2_contingency(age_seg_combo)\n",
    "chisqr_test"
   ]
  },
  {
   "cell_type": "code",
   "execution_count": 48,
   "id": "727d785c",
   "metadata": {},
   "outputs": [
    {
     "name": "stdout",
     "output_type": "stream",
     "text": [
      "The chi-square stat is 31.04087346356428 and the p-value is 0.0001381692922087835\n",
      "We reject null hypothesis\n",
      "As p-value<0.05, By chi-square test: there is relation between Age_category and segment\n"
     ]
    }
   ],
   "source": [
    "print(f'The chi-square stat is {chisqr_test[0]} and the p-value is {chisqr_test[1]}')\n",
    "p_val=chisqr_test[1]\n",
    "if(p_val<0.05):\n",
    "    print('We reject null hypothesis')\n",
    "    print('As p-value<0.05, By chi-square test: there is relation between Age_category and segment')\n",
    "else:\n",
    "    print('We fail to reject null hypothesis')\n",
    "    print('As p-value>0.05, By chi-square test: No relation between Age_category and segment')"
   ]
  },
  {
   "cell_type": "markdown",
   "id": "e3eb423d",
   "metadata": {},
   "source": [
    "#### 18. The current year has shown a significant rise in claim amounts as compared to 2016-17 fiscal average which was $10,000."
   ]
  },
  {
   "cell_type": "code",
   "execution_count": 37,
   "id": "47f29a5c",
   "metadata": {},
   "outputs": [],
   "source": [
    "# Here we have to check relationship between two continuos variables so will check the pearson correlation coeffecient.\n",
    "# The H0=  No relationship between the 2016-17 claim amounts and current_year_2018 claim amounts,\n",
    "# Ha= there is relationship between the 2016-17 claim amounts and current_year_2018 claim amounts;\n",
    "# CI= 95%, alpha =0.05\n",
    "# population_Mean=10000 "
   ]
  },
  {
   "cell_type": "code",
   "execution_count": 38,
   "id": "75d456fe",
   "metadata": {},
   "outputs": [],
   "source": [
    "\n",
    "amt_current_year_2018=insurance_claims_data.loc[insurance_claims_data['claim_date'].dt.year==2018]['claim_amount']\n",
    "amt_last_year_2017= insurance_claims_data.loc[insurance_claims_data['claim_date'].dt.year==2017]['claim_amount']\n",
    "#stats.pearsonr(amt_current_year_2018,amt_last_year_2017)\n"
   ]
  },
  {
   "cell_type": "code",
   "execution_count": 39,
   "id": "6a26f450",
   "metadata": {},
   "outputs": [],
   "source": [
    "# Not able to perfom because of unequal number of observationstion the datasets"
   ]
  },
  {
   "cell_type": "markdown",
   "id": "6fb8fc2a",
   "metadata": {},
   "source": [
    "#### 19. Is there any difference between age groups and insurance claims?"
   ]
  },
  {
   "cell_type": "code",
   "execution_count": 40,
   "id": "f75a0636",
   "metadata": {},
   "outputs": [],
   "source": [
    "# Here we will perform ANOVA (f_test)\n",
    "# H0 : No difference between age groups and insurance claims\n",
    "# Ha : There is some difference between age groups and insurance claims\n",
    "\n",
    "youth = insurance_claims_data['total_policy_claims'].loc[insurance_claims_data['Age_category']==\"Youth\"]\n",
    "adult = insurance_claims_data['total_policy_claims'].loc[insurance_claims_data['Age_category']==\"Adult\"]\n",
    "children = insurance_claims_data['total_policy_claims'].loc[insurance_claims_data['Age_category']==\"Children\"]\n",
    "Senior = insurance_claims_data['total_policy_claims'].loc[insurance_claims_data['Age_category']==\"Senior\"]"
   ]
  },
  {
   "cell_type": "code",
   "execution_count": 41,
   "id": "e1b8c06e",
   "metadata": {},
   "outputs": [
    {
     "name": "stdout",
     "output_type": "stream",
     "text": [
      "The f-value is 0.3828181450434234 and the p-value is 0.7654105970837555\n",
      "We fail to reject null hypothesis\n",
      "As p-value>0.05, By anova/f-test: No difference between age groups and insurance claims \n"
     ]
    }
   ],
   "source": [
    "anova = stats.f_oneway(youth,adult,children,Senior)\n",
    "\n",
    "f_val = anova.statistic\n",
    "p_val = anova.pvalue\n",
    "print(f'The f-value is {f_val} and the p-value is {p_val}')\n",
    "if(p_val<0.05):\n",
    "    print('We reject null hypothesis')\n",
    "    print('As p-value<0.05, By anova/f-test: There is some difference between age groups and insurance claims')\n",
    "else:\n",
    "    print('We fail to reject null hypothesis')\n",
    "    print('As p-value>0.05, By anova/f-test: No difference between age groups and insurance claims ')"
   ]
  },
  {
   "cell_type": "code",
   "execution_count": 42,
   "id": "efe17f28",
   "metadata": {},
   "outputs": [],
   "source": [
    "#20. Is there any relationship between total number of policy claims and the claimed amount?"
   ]
  },
  {
   "cell_type": "code",
   "execution_count": 49,
   "id": "4be8dd84",
   "metadata": {},
   "outputs": [
    {
     "name": "stdout",
     "output_type": "stream",
     "text": [
      "correlation =  -0.019490781428136705\n",
      "As the correlation is negative.it means the number of policy claims in inversely propotional to the claimed amount.\n"
     ]
    }
   ],
   "source": [
    "print(f'correlation =  {insurance_claims_data.total_policy_claims.corr(insurance_claims_data.claim_amount)}')\n",
    "\n",
    "print('As the correlation is negative.it means the number of policy claims in inversely propotional to the claimed amount.')"
   ]
  },
  {
   "cell_type": "raw",
   "id": "5467e547",
   "metadata": {},
   "source": [
    "\n",
    "\n",
    "\n",
    "\n"
   ]
  }
 ],
 "metadata": {
  "kernelspec": {
   "display_name": "Python 3 (ipykernel)",
   "language": "python",
   "name": "python3"
  },
  "language_info": {
   "codemirror_mode": {
    "name": "ipython",
    "version": 3
   },
   "file_extension": ".py",
   "mimetype": "text/x-python",
   "name": "python",
   "nbconvert_exporter": "python",
   "pygments_lexer": "ipython3",
   "version": "3.11.5"
  }
 },
 "nbformat": 4,
 "nbformat_minor": 5
}
